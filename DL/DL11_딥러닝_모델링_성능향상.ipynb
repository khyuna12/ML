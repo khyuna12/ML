{
  "nbformat": 4,
  "nbformat_minor": 0,
  "metadata": {
    "colab": {
      "provenance": []
    },
    "kernelspec": {
      "name": "python3",
      "display_name": "Python 3"
    },
    "language_info": {
      "name": "python"
    }
  },
  "cells": [
    {
      "cell_type": "markdown",
      "source": [
        "텐서플로가 제공하는 데이터셋 확인"
      ],
      "metadata": {
        "id": "2Z8IXzfj_j4r"
      }
    },
    {
      "cell_type": "markdown",
      "source": [
        "MNIST 필기 숫자 데이터셋"
      ],
      "metadata": {
        "id": "mstwY8A4_kFj"
      }
    },
    {
      "cell_type": "markdown",
      "source": [
        "CIFAR-10 자연 영상 데이터셋"
      ],
      "metadata": {
        "id": "26oRc7jz_kVK"
      }
    },
    {
      "cell_type": "code",
      "source": [
        "import tensorflow as tf\n",
        "import tensorflow.keras.datasets as ds\n",
        "import matplotlib.pyplot as plt"
      ],
      "metadata": {
        "id": "fXFXF88g_uSS"
      },
      "execution_count": 2,
      "outputs": []
    },
    {
      "cell_type": "code",
      "source": [
        "(x_train, y_train), (x_test, y_test) = ds.mnist.load_data()\n",
        "print(x_train.shape, y_train.shape, x_test.shape, y_test.shape)"
      ],
      "metadata": {
        "colab": {
          "base_uri": "https://localhost:8080/"
        },
        "id": "GAYACINh_3lX",
        "outputId": "a9c0562a-2a75-4f66-88e0-a897f5623e70"
      },
      "execution_count": 3,
      "outputs": [
        {
          "output_type": "stream",
          "name": "stdout",
          "text": [
            "Downloading data from https://storage.googleapis.com/tensorflow/tf-keras-datasets/mnist.npz\n",
            "11490434/11490434 [==============================] - 0s 0us/step\n",
            "(60000, 28, 28) (60000,) (10000, 28, 28) (10000,)\n"
          ]
        }
      ]
    },
    {
      "cell_type": "code",
      "source": [
        "plt.figure(figsize=(24,3))\n",
        "plt.suptitle('MNIST', fontsize=30)"
      ],
      "metadata": {
        "colab": {
          "base_uri": "https://localhost:8080/",
          "height": 54
        },
        "id": "uKNPwMQiAIpP",
        "outputId": "331d56d6-25c7-446f-9c91-619ff395c9de"
      },
      "execution_count": 4,
      "outputs": [
        {
          "output_type": "execute_result",
          "data": {
            "text/plain": [
              "Text(0.5, 0.98, 'MNIST')"
            ]
          },
          "metadata": {},
          "execution_count": 4
        },
        {
          "output_type": "display_data",
          "data": {
            "text/plain": [
              "<Figure size 2400x300 with 0 Axes>"
            ]
          },
          "metadata": {}
        }
      ]
    },
    {
      "cell_type": "code",
      "source": [
        "for i in range(10):\n",
        "  plt.subplot(1, 10, i+1)\n",
        "  plt.imshow(x_train[i], cmap='gray')\n",
        "  plt.xticks([]);\n",
        "  plt.yticks([])\n",
        "  plt.title(str(y_train[i]), fontsize=30)"
      ],
      "metadata": {
        "colab": {
          "base_uri": "https://localhost:8080/",
          "height": 121
        },
        "id": "GU_56Zu8ATcp",
        "outputId": "31e89da5-3270-4945-9896-a072fa8cb8dc"
      },
      "execution_count": 5,
      "outputs": [
        {
          "output_type": "display_data",
          "data": {
            "text/plain": [
              "<Figure size 640x480 with 10 Axes>"
            ],
            "image/png": "[encoded data removed]"
          },
          "metadata": {}
        }
      ]
    },
    {
      "cell_type": "code",
      "source": [
        "(x_train, y_train), (x_test, y_test) = ds.cifar10.load_data()\n",
        "print(x_train.shape, y_train.shape, x_test.shape, y_test.shape)"
      ],
      "metadata": {
        "colab": {
          "base_uri": "https://localhost:8080/"
        },
        "id": "r0D9cfbcAsVe",
        "outputId": "ec45a697-05c5-4b6f-eb38-f60239948a1a"
      },
      "execution_count": 6,
      "outputs": [
        {
          "output_type": "stream",
          "name": "stdout",
          "text": [
            "Downloading data from https://www.cs.toronto.edu/~kriz/cifar-10-python.tar.gz\n",
            "170498071/170498071 [==============================] - 4s 0us/step\n",
            "(50000, 32, 32, 3) (50000, 1) (10000, 32, 32, 3) (10000, 1)\n"
          ]
        }
      ]
    },
    {
      "cell_type": "code",
      "source": [
        "class_names = ['airplane', 'car', 'bird', 'cat', 'deer', 'dog', 'frog', 'horse', 'ship', 'truck']"
      ],
      "metadata": {
        "id": "aQZ-R-YDA7Ou"
      },
      "execution_count": 7,
      "outputs": []
    },
    {
      "cell_type": "code",
      "source": [
        "plt.figure(figsize=(24,3))\n",
        "plt.suptitle('CIFAR-10', fontsize=30)\n",
        "for i in range(10):\n",
        "  plt.subplot(1, 10, i+1)\n",
        "  plt.imshow(x_train[i])\n",
        "  plt.xticks([]);\n",
        "  plt.yticks([])\n",
        "  plt.title(class_names[y_train[i,0]], fontsize=12)"
      ],
      "metadata": {
        "colab": {
          "base_uri": "https://localhost:8080/",
          "height": 126
        },
        "id": "JTWsjrrABKVm",
        "outputId": "d0cebb43-175d-4dfa-e146-ab3fb4f77ca2"
      },
      "execution_count": 8,
      "outputs": [
        {
          "output_type": "display_data",
          "data": {
            "text/plain": [
              "<Figure size 2400x300 with 10 Axes>"
            ],
            "image/png": "[encoded data removed]"
          },
          "metadata": {}
        }
      ]
    },
    {
      "cell_type": "markdown",
      "source": [
        "필기 숫자 인식"
      ],
      "metadata": {
        "id": "qusPX8IUBhHz"
      }
    },
    {
      "cell_type": "markdown",
      "source": [
        "다층 퍼셉트론으로 MNIST 인식하기(SGD 옵티마이저)"
      ],
      "metadata": {
        "id": "80Q6KrOUBjxl"
      }
    },
    {
      "cell_type": "code",
      "source": [
        "import numpy as np\n",
        "import tensorflow as tf\n",
        "import tensorflow.keras.datasets as ds\n",
        "\n",
        "from tensorflow.keras.models import Sequential\n",
        "from tensorflow.keras.layers import Dense\n",
        "from tensorflow.keras.optimizers import SGD"
      ],
      "metadata": {
        "id": "waL99WtyBaK_"
      },
      "execution_count": 9,
      "outputs": []
    },
    {
      "cell_type": "code",
      "source": [
        "(x_train, y_train), (x_test, y_test) = ds.mnist.load_data()"
      ],
      "metadata": {
        "id": "Lp1Zkt7EB5kG"
      },
      "execution_count": 10,
      "outputs": []
    },
    {
      "cell_type": "code",
      "source": [
        "x_train = x_train.reshape(60000, 784)\n",
        "x_test = x_test.reshape(10000, 784)\n",
        "x_train = x_train.astype(np.float32)/255.0\n",
        "x_test = x_test.astype(np.float32)/255.0\n",
        "y_train = tf.keras.utils.to_categorical(y_train, 10)\n",
        "y_test = tf.keras.utils.to_categorical(y_test, 10)"
      ],
      "metadata": {
        "id": "XrkWRYRmCA-u"
      },
      "execution_count": 11,
      "outputs": []
    },
    {
      "cell_type": "code",
      "source": [
        "x_train"
      ],
      "metadata": {
        "colab": {
          "base_uri": "https://localhost:8080/"
        },
        "id": "CbZNaZDgCfQe",
        "outputId": "221ebdf2-e3b2-4652-b416-aa94f1d137fb"
      },
      "execution_count": 12,
      "outputs": [
        {
          "output_type": "execute_result",
          "data": {
            "text/plain": [
              "array([[0., 0., 0., ..., 0., 0., 0.],\n",
              "       [0., 0., 0., ..., 0., 0., 0.],\n",
              "       [0., 0., 0., ..., 0., 0., 0.],\n",
              "       ...,\n",
              "       [0., 0., 0., ..., 0., 0., 0.],\n",
              "       [0., 0., 0., ..., 0., 0., 0.],\n",
              "       [0., 0., 0., ..., 0., 0., 0.]], dtype=float32)"
            ]
          },
          "metadata": {},
          "execution_count": 12
        }
      ]
    },
    {
      "cell_type": "code",
      "source": [
        "mlp = Sequential()\n",
        "mlp.add(Dense(units=512, activation='tanh', input_shape=(784,)))\n",
        "mlp.add(Dense(units=10, activation='softmax'))"
      ],
      "metadata": {
        "id": "kh7kNefdCgcF"
      },
      "execution_count": 13,
      "outputs": []
    },
    {
      "cell_type": "code",
      "source": [
        "mlp.compile(loss='MSE', optimizer=SGD(learning_rate=0.01), metrics=['accuracy'])\n",
        "mlp.fit(x_train, y_train, batch_size=128, epochs=50, validation_data=(x_test, y_test), verbose=2)"
      ],
      "metadata": {
        "colab": {
          "base_uri": "https://localhost:8080/"
        },
        "id": "rVFzLSofC1ql",
        "outputId": "2f1262a4-bc3a-41dc-db5c-c4eac84328d1"
      },
      "execution_count": 14,
      "outputs": [
        {
          "output_type": "stream",
          "name": "stdout",
          "text": [
            "Epoch 1/50\n",
            "469/469 - 6s - loss: 0.0879 - accuracy: 0.1806 - val_loss: 0.0849 - val_accuracy: 0.2919 - 6s/epoch - 12ms/step\n",
            "Epoch 2/50\n",
            "469/469 - 5s - loss: 0.0813 - accuracy: 0.4351 - val_loss: 0.0772 - val_accuracy: 0.5406 - 5s/epoch - 11ms/step\n",
            "Epoch 3/50\n",
            "469/469 - 4s - loss: 0.0730 - accuracy: 0.5715 - val_loss: 0.0684 - val_accuracy: 0.6067 - 4s/epoch - 9ms/step\n",
            "Epoch 4/50\n",
            "469/469 - 4s - loss: 0.0648 - accuracy: 0.6248 - val_loss: 0.0607 - val_accuracy: 0.6622 - 4s/epoch - 8ms/step\n",
            "Epoch 5/50\n",
            "469/469 - 7s - loss: 0.0581 - accuracy: 0.6759 - val_loss: 0.0545 - val_accuracy: 0.7123 - 7s/epoch - 15ms/step\n",
            "Epoch 6/50\n",
            "469/469 - 6s - loss: 0.0526 - accuracy: 0.7124 - val_loss: 0.0494 - val_accuracy: 0.7401 - 6s/epoch - 13ms/step\n",
            "Epoch 7/50\n",
            "469/469 - 8s - loss: 0.0482 - accuracy: 0.7352 - val_loss: 0.0455 - val_accuracy: 0.7561 - 8s/epoch - 16ms/step\n",
            "Epoch 8/50\n",
            "469/469 - 7s - loss: 0.0448 - accuracy: 0.7515 - val_loss: 0.0423 - val_accuracy: 0.7685 - 7s/epoch - 14ms/step\n",
            "Epoch 9/50\n",
            "469/469 - 8s - loss: 0.0420 - accuracy: 0.7614 - val_loss: 0.0397 - val_accuracy: 0.7777 - 8s/epoch - 18ms/step\n",
            "Epoch 10/50\n",
            "469/469 - 5s - loss: 0.0396 - accuracy: 0.7719 - val_loss: 0.0375 - val_accuracy: 0.7903 - 5s/epoch - 10ms/step\n",
            "Epoch 11/50\n",
            "469/469 - 5s - loss: 0.0375 - accuracy: 0.7870 - val_loss: 0.0354 - val_accuracy: 0.8089 - 5s/epoch - 12ms/step\n",
            "Epoch 12/50\n",
            "469/469 - 5s - loss: 0.0355 - accuracy: 0.8047 - val_loss: 0.0335 - val_accuracy: 0.8259 - 5s/epoch - 11ms/step\n",
            "Epoch 13/50\n",
            "469/469 - 6s - loss: 0.0338 - accuracy: 0.8195 - val_loss: 0.0319 - val_accuracy: 0.8379 - 6s/epoch - 12ms/step\n",
            "Epoch 14/50\n",
            "469/469 - 4s - loss: 0.0323 - accuracy: 0.8293 - val_loss: 0.0305 - val_accuracy: 0.8453 - 4s/epoch - 9ms/step\n",
            "Epoch 15/50\n",
            "469/469 - 4s - loss: 0.0311 - accuracy: 0.8359 - val_loss: 0.0294 - val_accuracy: 0.8502 - 4s/epoch - 10ms/step\n",
            "Epoch 16/50\n",
            "469/469 - 5s - loss: 0.0300 - accuracy: 0.8408 - val_loss: 0.0283 - val_accuracy: 0.8538 - 5s/epoch - 12ms/step\n",
            "Epoch 17/50\n",
            "469/469 - 5s - loss: 0.0290 - accuracy: 0.8442 - val_loss: 0.0274 - val_accuracy: 0.8585 - 5s/epoch - 11ms/step\n",
            "Epoch 18/50\n",
            "469/469 - 5s - loss: 0.0281 - accuracy: 0.8474 - val_loss: 0.0266 - val_accuracy: 0.8608 - 5s/epoch - 10ms/step\n",
            "Epoch 19/50\n",
            "469/469 - 5s - loss: 0.0273 - accuracy: 0.8505 - val_loss: 0.0259 - val_accuracy: 0.8637 - 5s/epoch - 12ms/step\n",
            "Epoch 20/50\n",
            "469/469 - 4s - loss: 0.0266 - accuracy: 0.8539 - val_loss: 0.0252 - val_accuracy: 0.8670 - 4s/epoch - 9ms/step\n",
            "Epoch 21/50\n",
            "469/469 - 5s - loss: 0.0260 - accuracy: 0.8564 - val_loss: 0.0246 - val_accuracy: 0.8702 - 5s/epoch - 11ms/step\n",
            "Epoch 22/50\n",
            "469/469 - 4s - loss: 0.0255 - accuracy: 0.8587 - val_loss: 0.0241 - val_accuracy: 0.8720 - 4s/epoch - 9ms/step\n",
            "Epoch 23/50\n",
            "469/469 - 4s - loss: 0.0250 - accuracy: 0.8606 - val_loss: 0.0236 - val_accuracy: 0.8737 - 4s/epoch - 9ms/step\n",
            "Epoch 24/50\n",
            "469/469 - 7s - loss: 0.0245 - accuracy: 0.8626 - val_loss: 0.0232 - val_accuracy: 0.8761 - 7s/epoch - 15ms/step\n",
            "Epoch 25/50\n",
            "469/469 - 4s - loss: 0.0241 - accuracy: 0.8643 - val_loss: 0.0227 - val_accuracy: 0.8772 - 4s/epoch - 9ms/step\n",
            "Epoch 26/50\n",
            "469/469 - 5s - loss: 0.0237 - accuracy: 0.8662 - val_loss: 0.0224 - val_accuracy: 0.8786 - 5s/epoch - 11ms/step\n",
            "Epoch 27/50\n",
            "469/469 - 4s - loss: 0.0233 - accuracy: 0.8675 - val_loss: 0.0220 - val_accuracy: 0.8797 - 4s/epoch - 9ms/step\n",
            "Epoch 28/50\n",
            "469/469 - 5s - loss: 0.0229 - accuracy: 0.8687 - val_loss: 0.0217 - val_accuracy: 0.8816 - 5s/epoch - 10ms/step\n",
            "Epoch 29/50\n",
            "469/469 - 6s - loss: 0.0226 - accuracy: 0.8701 - val_loss: 0.0214 - val_accuracy: 0.8828 - 6s/epoch - 13ms/step\n",
            "Epoch 30/50\n",
            "469/469 - 4s - loss: 0.0223 - accuracy: 0.8712 - val_loss: 0.0211 - val_accuracy: 0.8847 - 4s/epoch - 9ms/step\n",
            "Epoch 31/50\n",
            "469/469 - 8s - loss: 0.0220 - accuracy: 0.8725 - val_loss: 0.0208 - val_accuracy: 0.8852 - 8s/epoch - 18ms/step\n",
            "Epoch 32/50\n",
            "469/469 - 5s - loss: 0.0218 - accuracy: 0.8736 - val_loss: 0.0206 - val_accuracy: 0.8862 - 5s/epoch - 11ms/step\n",
            "Epoch 33/50\n",
            "469/469 - 4s - loss: 0.0215 - accuracy: 0.8745 - val_loss: 0.0203 - val_accuracy: 0.8868 - 4s/epoch - 9ms/step\n",
            "Epoch 34/50\n",
            "469/469 - 5s - loss: 0.0213 - accuracy: 0.8757 - val_loss: 0.0201 - val_accuracy: 0.8878 - 5s/epoch - 11ms/step\n",
            "Epoch 35/50\n",
            "469/469 - 5s - loss: 0.0211 - accuracy: 0.8765 - val_loss: 0.0199 - val_accuracy: 0.8883 - 5s/epoch - 11ms/step\n",
            "Epoch 36/50\n",
            "469/469 - 5s - loss: 0.0209 - accuracy: 0.8776 - val_loss: 0.0197 - val_accuracy: 0.8887 - 5s/epoch - 12ms/step\n",
            "Epoch 37/50\n",
            "469/469 - 4s - loss: 0.0207 - accuracy: 0.8782 - val_loss: 0.0195 - val_accuracy: 0.8894 - 4s/epoch - 8ms/step\n",
            "Epoch 38/50\n",
            "469/469 - 4s - loss: 0.0205 - accuracy: 0.8790 - val_loss: 0.0193 - val_accuracy: 0.8897 - 4s/epoch - 9ms/step\n",
            "Epoch 39/50\n",
            "469/469 - 6s - loss: 0.0203 - accuracy: 0.8799 - val_loss: 0.0191 - val_accuracy: 0.8905 - 6s/epoch - 12ms/step\n",
            "Epoch 40/50\n",
            "469/469 - 4s - loss: 0.0201 - accuracy: 0.8807 - val_loss: 0.0190 - val_accuracy: 0.8907 - 4s/epoch - 9ms/step\n",
            "Epoch 41/50\n",
            "469/469 - 5s - loss: 0.0199 - accuracy: 0.8811 - val_loss: 0.0188 - val_accuracy: 0.8912 - 5s/epoch - 10ms/step\n",
            "Epoch 42/50\n",
            "469/469 - 7s - loss: 0.0198 - accuracy: 0.8818 - val_loss: 0.0187 - val_accuracy: 0.8920 - 7s/epoch - 15ms/step\n",
            "Epoch 43/50\n",
            "469/469 - 5s - loss: 0.0196 - accuracy: 0.8826 - val_loss: 0.0185 - val_accuracy: 0.8926 - 5s/epoch - 11ms/step\n",
            "Epoch 44/50\n",
            "469/469 - 6s - loss: 0.0195 - accuracy: 0.8834 - val_loss: 0.0184 - val_accuracy: 0.8926 - 6s/epoch - 12ms/step\n",
            "Epoch 45/50\n",
            "469/469 - 4s - loss: 0.0193 - accuracy: 0.8842 - val_loss: 0.0182 - val_accuracy: 0.8935 - 4s/epoch - 9ms/step\n",
            "Epoch 46/50\n",
            "469/469 - 6s - loss: 0.0192 - accuracy: 0.8848 - val_loss: 0.0181 - val_accuracy: 0.8944 - 6s/epoch - 12ms/step\n",
            "Epoch 47/50\n",
            "469/469 - 4s - loss: 0.0191 - accuracy: 0.8854 - val_loss: 0.0180 - val_accuracy: 0.8950 - 4s/epoch - 9ms/step\n",
            "Epoch 48/50\n",
            "469/469 - 4s - loss: 0.0189 - accuracy: 0.8860 - val_loss: 0.0179 - val_accuracy: 0.8956 - 4s/epoch - 9ms/step\n",
            "Epoch 49/50\n",
            "469/469 - 5s - loss: 0.0188 - accuracy: 0.8866 - val_loss: 0.0177 - val_accuracy: 0.8960 - 5s/epoch - 10ms/step\n",
            "Epoch 50/50\n",
            "469/469 - 4s - loss: 0.0187 - accuracy: 0.8871 - val_loss: 0.0176 - val_accuracy: 0.8965 - 4s/epoch - 8ms/step\n"
          ]
        },
        {
          "output_type": "execute_result",
          "data": {
            "text/plain": [
              "<keras.callbacks.History at 0x7cddc570b340>"
            ]
          },
          "metadata": {},
          "execution_count": 14
        }
      ]
    },
    {
      "cell_type": "code",
      "source": [
        "res = mlp.evaluate(x_test, y_test, verbose=0)\n",
        "print('정확률=', res[1]*100)"
      ],
      "metadata": {
        "colab": {
          "base_uri": "https://localhost:8080/"
        },
        "id": "7ju-QgK_DHHN",
        "outputId": "8044e08b-fe04-48aa-a5eb-c9b8e54517f9"
      },
      "execution_count": 15,
      "outputs": [
        {
          "output_type": "stream",
          "name": "stdout",
          "text": [
            "정확률= 89.64999914169312\n"
          ]
        }
      ]
    },
    {
      "cell_type": "markdown",
      "source": [
        "Adam 옵티마이저를 사용하여 성능 향상"
      ],
      "metadata": {
        "id": "61DhY6R-DZOO"
      }
    },
    {
      "cell_type": "code",
      "source": [
        "import numpy as np\n",
        "import tensorflow as tf\n",
        "import tensorflow.keras.datasets as ds"
      ],
      "metadata": {
        "id": "RCjINKRMDU0d"
      },
      "execution_count": 16,
      "outputs": []
    },
    {
      "cell_type": "code",
      "source": [
        "from tensorflow.keras.models import Sequential\n",
        "from tensorflow.keras.layers import Dense\n",
        "from tensorflow.keras.optimizers import Adam"
      ],
      "metadata": {
        "id": "PRQQ5hlZDgSl"
      },
      "execution_count": 17,
      "outputs": []
    },
    {
      "cell_type": "code",
      "source": [
        "(x_train, y_train), (x_test, y_test) = ds.mnist.load_data()"
      ],
      "metadata": {
        "id": "CTd2mxFdDmcl"
      },
      "execution_count": 18,
      "outputs": []
    },
    {
      "cell_type": "code",
      "source": [
        "x_train = x_train.reshape(60000, 784)\n",
        "x_test = x_test.reshape(10000, 784)\n",
        "x_train = x_train.astype(np.float32)/255.0\n",
        "x_test = x_test.astype(np.float32)/255.0\n",
        "y_train = tf.keras.utils.to_categorical(y_train, 10)\n",
        "y_test = tf.keras.utils.to_categorical(y_test, 10)"
      ],
      "metadata": {
        "id": "_RLxIJSSDrTt"
      },
      "execution_count": 19,
      "outputs": []
    },
    {
      "cell_type": "code",
      "source": [
        "mlp = Sequential()\n",
        "mlp.add(Dense(units=512, activation='tanh', input_shape=(784,)))\n",
        "mlp.add(Dense(units=10, activation='softmax'))"
      ],
      "metadata": {
        "id": "QIDtYZQADzu9"
      },
      "execution_count": 20,
      "outputs": []
    },
    {
      "cell_type": "code",
      "source": [
        "mlp.compile(loss='MSE', optimizer=Adam(learning_rate=0.001), metrics=['accuracy'])\n",
        "mlp.fit(x_train, y_train, batch_size=128, epochs=50, validation_data=(x_test, y_test), verbose=2)"
      ],
      "metadata": {
        "colab": {
          "base_uri": "https://localhost:8080/"
        },
        "id": "osoCn6QtD64V",
        "outputId": "fc47bd73-4aac-4c24-bcd2-d904859c6f89"
      },
      "execution_count": 21,
      "outputs": [
        {
          "output_type": "stream",
          "name": "stdout",
          "text": [
            "Epoch 1/50\n",
            "469/469 - 7s - loss: 0.0150 - accuracy: 0.9005 - val_loss: 0.0103 - val_accuracy: 0.9334 - 7s/epoch - 15ms/step\n",
            "Epoch 2/50\n",
            "469/469 - 6s - loss: 0.0088 - accuracy: 0.9432 - val_loss: 0.0073 - val_accuracy: 0.9527 - 6s/epoch - 13ms/step\n",
            "Epoch 3/50\n",
            "469/469 - 7s - loss: 0.0065 - accuracy: 0.9587 - val_loss: 0.0063 - val_accuracy: 0.9600 - 7s/epoch - 16ms/step\n",
            "Epoch 4/50\n",
            "469/469 - 6s - loss: 0.0050 - accuracy: 0.9687 - val_loss: 0.0052 - val_accuracy: 0.9670 - 6s/epoch - 13ms/step\n",
            "Epoch 5/50\n",
            "469/469 - 6s - loss: 0.0040 - accuracy: 0.9751 - val_loss: 0.0050 - val_accuracy: 0.9682 - 6s/epoch - 14ms/step\n",
            "Epoch 6/50\n",
            "469/469 - 5s - loss: 0.0033 - accuracy: 0.9805 - val_loss: 0.0044 - val_accuracy: 0.9711 - 5s/epoch - 11ms/step\n",
            "Epoch 7/50\n",
            "469/469 - 6s - loss: 0.0028 - accuracy: 0.9833 - val_loss: 0.0038 - val_accuracy: 0.9752 - 6s/epoch - 12ms/step\n",
            "Epoch 8/50\n",
            "469/469 - 6s - loss: 0.0023 - accuracy: 0.9863 - val_loss: 0.0039 - val_accuracy: 0.9746 - 6s/epoch - 12ms/step\n",
            "Epoch 9/50\n",
            "469/469 - 5s - loss: 0.0020 - accuracy: 0.9887 - val_loss: 0.0037 - val_accuracy: 0.9749 - 5s/epoch - 11ms/step\n",
            "Epoch 10/50\n",
            "469/469 - 6s - loss: 0.0016 - accuracy: 0.9909 - val_loss: 0.0033 - val_accuracy: 0.9792 - 6s/epoch - 13ms/step\n",
            "Epoch 11/50\n",
            "469/469 - 5s - loss: 0.0014 - accuracy: 0.9923 - val_loss: 0.0033 - val_accuracy: 0.9794 - 5s/epoch - 11ms/step\n",
            "Epoch 12/50\n",
            "469/469 - 6s - loss: 0.0012 - accuracy: 0.9934 - val_loss: 0.0031 - val_accuracy: 0.9801 - 6s/epoch - 13ms/step\n",
            "Epoch 13/50\n",
            "469/469 - 5s - loss: 0.0011 - accuracy: 0.9942 - val_loss: 0.0034 - val_accuracy: 0.9780 - 5s/epoch - 11ms/step\n",
            "Epoch 14/50\n",
            "469/469 - 7s - loss: 9.4186e-04 - accuracy: 0.9951 - val_loss: 0.0036 - val_accuracy: 0.9765 - 7s/epoch - 14ms/step\n",
            "Epoch 15/50\n",
            "469/469 - 5s - loss: 8.4274e-04 - accuracy: 0.9956 - val_loss: 0.0031 - val_accuracy: 0.9802 - 5s/epoch - 11ms/step\n",
            "Epoch 16/50\n",
            "469/469 - 6s - loss: 7.2650e-04 - accuracy: 0.9962 - val_loss: 0.0030 - val_accuracy: 0.9809 - 6s/epoch - 12ms/step\n",
            "Epoch 17/50\n",
            "469/469 - 5s - loss: 6.2976e-04 - accuracy: 0.9967 - val_loss: 0.0032 - val_accuracy: 0.9798 - 5s/epoch - 12ms/step\n",
            "Epoch 18/50\n",
            "469/469 - 5s - loss: 5.8381e-04 - accuracy: 0.9970 - val_loss: 0.0033 - val_accuracy: 0.9789 - 5s/epoch - 11ms/step\n",
            "Epoch 19/50\n",
            "469/469 - 7s - loss: 6.1138e-04 - accuracy: 0.9969 - val_loss: 0.0034 - val_accuracy: 0.9782 - 7s/epoch - 14ms/step\n",
            "Epoch 20/50\n",
            "469/469 - 5s - loss: 5.0326e-04 - accuracy: 0.9974 - val_loss: 0.0031 - val_accuracy: 0.9803 - 5s/epoch - 10ms/step\n",
            "Epoch 21/50\n",
            "469/469 - 6s - loss: 4.3921e-04 - accuracy: 0.9980 - val_loss: 0.0029 - val_accuracy: 0.9814 - 6s/epoch - 13ms/step\n",
            "Epoch 22/50\n",
            "469/469 - 5s - loss: 4.5025e-04 - accuracy: 0.9977 - val_loss: 0.0030 - val_accuracy: 0.9796 - 5s/epoch - 11ms/step\n",
            "Epoch 23/50\n",
            "469/469 - 7s - loss: 5.7648e-04 - accuracy: 0.9967 - val_loss: 0.0032 - val_accuracy: 0.9797 - 7s/epoch - 14ms/step\n",
            "Epoch 24/50\n",
            "469/469 - 5s - loss: 3.6772e-04 - accuracy: 0.9982 - val_loss: 0.0030 - val_accuracy: 0.9808 - 5s/epoch - 10ms/step\n",
            "Epoch 25/50\n",
            "469/469 - 5s - loss: 3.5695e-04 - accuracy: 0.9980 - val_loss: 0.0033 - val_accuracy: 0.9783 - 5s/epoch - 11ms/step\n",
            "Epoch 26/50\n",
            "469/469 - 6s - loss: 4.0732e-04 - accuracy: 0.9979 - val_loss: 0.0032 - val_accuracy: 0.9793 - 6s/epoch - 13ms/step\n",
            "Epoch 27/50\n",
            "469/469 - 5s - loss: 3.5209e-04 - accuracy: 0.9981 - val_loss: 0.0032 - val_accuracy: 0.9795 - 5s/epoch - 12ms/step\n",
            "Epoch 28/50\n",
            "469/469 - 6s - loss: 3.5616e-04 - accuracy: 0.9981 - val_loss: 0.0030 - val_accuracy: 0.9807 - 6s/epoch - 13ms/step\n",
            "Epoch 29/50\n",
            "469/469 - 5s - loss: 3.9598e-04 - accuracy: 0.9977 - val_loss: 0.0031 - val_accuracy: 0.9803 - 5s/epoch - 11ms/step\n",
            "Epoch 30/50\n",
            "469/469 - 7s - loss: 3.4550e-04 - accuracy: 0.9981 - val_loss: 0.0032 - val_accuracy: 0.9794 - 7s/epoch - 14ms/step\n",
            "Epoch 31/50\n",
            "469/469 - 5s - loss: 2.6935e-04 - accuracy: 0.9986 - val_loss: 0.0030 - val_accuracy: 0.9804 - 5s/epoch - 12ms/step\n",
            "Epoch 32/50\n",
            "469/469 - 6s - loss: 3.1619e-04 - accuracy: 0.9983 - val_loss: 0.0034 - val_accuracy: 0.9781 - 6s/epoch - 13ms/step\n",
            "Epoch 33/50\n",
            "469/469 - 6s - loss: 2.7710e-04 - accuracy: 0.9985 - val_loss: 0.0031 - val_accuracy: 0.9804 - 6s/epoch - 12ms/step\n",
            "Epoch 34/50\n",
            "469/469 - 5s - loss: 3.3229e-04 - accuracy: 0.9982 - val_loss: 0.0032 - val_accuracy: 0.9795 - 5s/epoch - 11ms/step\n",
            "Epoch 35/50\n",
            "469/469 - 6s - loss: 2.7212e-04 - accuracy: 0.9986 - val_loss: 0.0029 - val_accuracy: 0.9821 - 6s/epoch - 13ms/step\n",
            "Epoch 36/50\n",
            "469/469 - 5s - loss: 2.3968e-04 - accuracy: 0.9987 - val_loss: 0.0032 - val_accuracy: 0.9803 - 5s/epoch - 12ms/step\n",
            "Epoch 37/50\n",
            "469/469 - 6s - loss: 2.5192e-04 - accuracy: 0.9987 - val_loss: 0.0033 - val_accuracy: 0.9786 - 6s/epoch - 13ms/step\n",
            "Epoch 38/50\n",
            "469/469 - 5s - loss: 3.2047e-04 - accuracy: 0.9982 - val_loss: 0.0031 - val_accuracy: 0.9807 - 5s/epoch - 11ms/step\n",
            "Epoch 39/50\n",
            "469/469 - 6s - loss: 2.8316e-04 - accuracy: 0.9985 - val_loss: 0.0031 - val_accuracy: 0.9806 - 6s/epoch - 13ms/step\n",
            "Epoch 40/50\n",
            "469/469 - 5s - loss: 2.2396e-04 - accuracy: 0.9989 - val_loss: 0.0032 - val_accuracy: 0.9796 - 5s/epoch - 10ms/step\n",
            "Epoch 41/50\n",
            "469/469 - 6s - loss: 2.9674e-04 - accuracy: 0.9984 - val_loss: 0.0032 - val_accuracy: 0.9801 - 6s/epoch - 13ms/step\n",
            "Epoch 42/50\n",
            "469/469 - 5s - loss: 2.4149e-04 - accuracy: 0.9988 - val_loss: 0.0031 - val_accuracy: 0.9802 - 5s/epoch - 11ms/step\n",
            "Epoch 43/50\n",
            "469/469 - 5s - loss: 2.0860e-04 - accuracy: 0.9990 - val_loss: 0.0031 - val_accuracy: 0.9803 - 5s/epoch - 11ms/step\n",
            "Epoch 44/50\n",
            "469/469 - 6s - loss: 3.3641e-04 - accuracy: 0.9982 - val_loss: 0.0030 - val_accuracy: 0.9816 - 6s/epoch - 12ms/step\n",
            "Epoch 45/50\n",
            "469/469 - 5s - loss: 2.4546e-04 - accuracy: 0.9987 - val_loss: 0.0031 - val_accuracy: 0.9805 - 5s/epoch - 11ms/step\n",
            "Epoch 46/50\n",
            "469/469 - 6s - loss: 2.1906e-04 - accuracy: 0.9988 - val_loss: 0.0030 - val_accuracy: 0.9810 - 6s/epoch - 14ms/step\n",
            "Epoch 47/50\n",
            "469/469 - 5s - loss: 1.8509e-04 - accuracy: 0.9990 - val_loss: 0.0028 - val_accuracy: 0.9821 - 5s/epoch - 11ms/step\n",
            "Epoch 48/50\n",
            "469/469 - 6s - loss: 1.7538e-04 - accuracy: 0.9991 - val_loss: 0.0029 - val_accuracy: 0.9818 - 6s/epoch - 13ms/step\n",
            "Epoch 49/50\n",
            "469/469 - 5s - loss: 2.6272e-04 - accuracy: 0.9986 - val_loss: 0.0034 - val_accuracy: 0.9784 - 5s/epoch - 12ms/step\n",
            "Epoch 50/50\n",
            "469/469 - 6s - loss: 3.5592e-04 - accuracy: 0.9979 - val_loss: 0.0030 - val_accuracy: 0.9815 - 6s/epoch - 13ms/step\n"
          ]
        },
        {
          "output_type": "execute_result",
          "data": {
            "text/plain": [
              "<keras.callbacks.History at 0x7cddc4d1f6d0>"
            ]
          },
          "metadata": {},
          "execution_count": 21
        }
      ]
    },
    {
      "cell_type": "code",
      "source": [],
      "metadata": {
        "id": "k7sU_aegECCl"
      },
      "execution_count": null,
      "outputs": []
    }
  ]
}