{
  "nbformat": 4,
  "nbformat_minor": 0,
  "metadata": {
    "colab": {
      "provenance": []
    },
    "kernelspec": {
      "name": "python3",
      "display_name": "Python 3"
    },
    "language_info": {
      "name": "python"
    }
  },
  "cells": [
    {
      "cell_type": "markdown",
      "source": [
        "시퀀스 배열로 다루는 순환 신경망(RNN)"
      ],
      "metadata": {
        "id": "96_p9_CISRc4"
      }
    },
    {
      "cell_type": "markdown",
      "source": [
        "1. LSTM을 이용한 로이터 뉴스 카테고리 분류"
      ],
      "metadata": {
        "id": "jyBXeOxfSKSY"
      }
    },
    {
      "cell_type": "code",
      "source": [
        "from tensorflow.keras.preprocessing.text import Tokenizer\n",
        "from tensorflow.keras.preprocessing import sequence\n",
        "from tensorflow.keras.models import Sequential\n",
        "from tensorflow.keras.layers import Dense, LSTM, Embedding\n",
        "from tensorflow.keras.utils import to_categorical\n",
        "from tensorflow.keras.datasets import reuters\n",
        "\n",
        "from tensorflow.keras.callbacks import EarlyStopping\n",
        "import numpy as np\n",
        "import matplotlib.pyplot as plt"
      ],
      "metadata": {
        "id": "04vxCZYPSJvl"
      },
      "execution_count": 14,
      "outputs": []
    },
    {
      "cell_type": "code",
      "source": [
        "# 데이터를 불러와 학습셋, 테스트셋으로 나눔\n",
        "(X_train, y_train), (X_test, y_test) = reuters.load_data(num_words=1000, test_split=0.2)"
      ],
      "metadata": {
        "colab": {
          "base_uri": "https://localhost:8080/"
        },
        "id": "REiFnTMCSz-1",
        "outputId": "3b226d01-90e0-4df1-a24d-ff2740ae2f24"
      },
      "execution_count": 3,
      "outputs": [
        {
          "output_type": "stream",
          "name": "stdout",
          "text": [
            "Downloading data from https://storage.googleapis.com/tensorflow/tf-keras-datasets/reuters.npz\n",
            "2110848/2110848 [==============================] - 0s 0us/step\n"
          ]
        }
      ]
    },
    {
      "cell_type": "code",
      "source": [
        "# 데이터 확인\n",
        "category = np.max(y_train) + 1\n",
        "print(category, '카테고리')\n",
        "print(len(X_train), '학습용 뉴스 기사')\n",
        "print(len(X_test), '테스트용 뉴스 기사')\n",
        "print(X_train[0])"
      ],
      "metadata": {
        "colab": {
          "base_uri": "https://localhost:8080/"
        },
        "id": "ja261SKQTQcU",
        "outputId": "b5c4ede7-662c-4228-a1b5-a408b5fcb3e2"
      },
      "execution_count": 4,
      "outputs": [
        {
          "output_type": "stream",
          "name": "stdout",
          "text": [
            "46 카테고리\n",
            "8982 학습용 뉴스 기사\n",
            "2246 테스트용 뉴스 기사\n",
            "[1, 2, 2, 8, 43, 10, 447, 5, 25, 207, 270, 5, 2, 111, 16, 369, 186, 90, 67, 7, 89, 5, 19, 102, 6, 19, 124, 15, 90, 67, 84, 22, 482, 26, 7, 48, 4, 49, 8, 864, 39, 209, 154, 6, 151, 6, 83, 11, 15, 22, 155, 11, 15, 7, 48, 9, 2, 2, 504, 6, 258, 6, 272, 11, 15, 22, 134, 44, 11, 15, 16, 8, 197, 2, 90, 67, 52, 29, 209, 30, 32, 132, 6, 109, 15, 17, 12]\n"
          ]
        }
      ]
    },
    {
      "cell_type": "code",
      "source": [
        "# 단어의 수 맞추기\n",
        "X_train = sequence.pad_sequences(X_train, maxlen=100)\n",
        "X_test = sequence.pad_sequences(X_test, maxlen=100)"
      ],
      "metadata": {
        "id": "95x138rCTftD"
      },
      "execution_count": 5,
      "outputs": []
    },
    {
      "cell_type": "code",
      "source": [
        "# 원-핫 인코딩\n",
        "y_train = to_categorical(y_train)\n",
        "y_test = to_categorical(y_test)"
      ],
      "metadata": {
        "id": "VbGj62QmTxi0"
      },
      "execution_count": 6,
      "outputs": []
    },
    {
      "cell_type": "code",
      "source": [
        "# 모델 구조 설정\n",
        "model = Sequential()\n",
        "model.add(Embedding(1000, 100))\n",
        "model.add(LSTM(100, activation='tanh'))\n",
        "model.add(Dense(46, activation='softmax'))\n",
        "# 모델 실행 옵션\n",
        "model.compile(loss='categorical_crossentropy', optimizer='adam', metrics=['accuracy'])\n",
        "# 학습 조기 중단 설정\n",
        "early_stopping_callback = EarlyStopping(monitor='val_loss', patience=5)\n",
        "# 모델 실행\n",
        "history = model.fit(X_train, y_train, batch_size=20, epochs=200, validation_data=(X_test, y_test), callbacks=[early_stopping_callback])"
      ],
      "metadata": {
        "colab": {
          "base_uri": "https://localhost:8080/"
        },
        "id": "MxhD_BuwT5iM",
        "outputId": "4e0c60fe-3f90-44a2-917e-ca82d682d04b"
      },
      "execution_count": 8,
      "outputs": [
        {
          "output_type": "stream",
          "name": "stdout",
          "text": [
            "Epoch 1/200\n",
            "450/450 [==============================] - 47s 99ms/step - loss: 2.1588 - accuracy: 0.4557 - val_loss: 1.8565 - val_accuracy: 0.5191\n",
            "Epoch 2/200\n",
            "450/450 [==============================] - 40s 89ms/step - loss: 1.7736 - accuracy: 0.5355 - val_loss: 1.7097 - val_accuracy: 0.5472\n",
            "Epoch 3/200\n",
            "450/450 [==============================] - 41s 90ms/step - loss: 1.6391 - accuracy: 0.5823 - val_loss: 1.5826 - val_accuracy: 0.6055\n",
            "Epoch 4/200\n",
            "450/450 [==============================] - 42s 94ms/step - loss: 1.4688 - accuracy: 0.6287 - val_loss: 1.4812 - val_accuracy: 0.6291\n",
            "Epoch 5/200\n",
            "450/450 [==============================] - 40s 89ms/step - loss: 1.3310 - accuracy: 0.6649 - val_loss: 1.3639 - val_accuracy: 0.6647\n",
            "Epoch 6/200\n",
            "450/450 [==============================] - 40s 88ms/step - loss: 1.2237 - accuracy: 0.6884 - val_loss: 1.3209 - val_accuracy: 0.6616\n",
            "Epoch 7/200\n",
            "450/450 [==============================] - 39s 87ms/step - loss: 1.1309 - accuracy: 0.7134 - val_loss: 1.2541 - val_accuracy: 0.6843\n",
            "Epoch 8/200\n",
            "450/450 [==============================] - 39s 87ms/step - loss: 1.0509 - accuracy: 0.7361 - val_loss: 1.2176 - val_accuracy: 0.6977\n",
            "Epoch 9/200\n",
            "450/450 [==============================] - 40s 89ms/step - loss: 0.9764 - accuracy: 0.7517 - val_loss: 1.1750 - val_accuracy: 0.6977\n",
            "Epoch 10/200\n",
            "450/450 [==============================] - 40s 89ms/step - loss: 0.9080 - accuracy: 0.7661 - val_loss: 1.1649 - val_accuracy: 0.7004\n",
            "Epoch 11/200\n",
            "450/450 [==============================] - 40s 88ms/step - loss: 0.8373 - accuracy: 0.7850 - val_loss: 1.1491 - val_accuracy: 0.7222\n",
            "Epoch 12/200\n",
            "450/450 [==============================] - 40s 89ms/step - loss: 0.7705 - accuracy: 0.8047 - val_loss: 1.1389 - val_accuracy: 0.7284\n",
            "Epoch 13/200\n",
            "450/450 [==============================] - 40s 89ms/step - loss: 0.7084 - accuracy: 0.8229 - val_loss: 1.1367 - val_accuracy: 0.7208\n",
            "Epoch 14/200\n",
            "450/450 [==============================] - 40s 88ms/step - loss: 0.6465 - accuracy: 0.8367 - val_loss: 1.1356 - val_accuracy: 0.7297\n",
            "Epoch 15/200\n",
            "450/450 [==============================] - 39s 87ms/step - loss: 0.5956 - accuracy: 0.8490 - val_loss: 1.1908 - val_accuracy: 0.7302\n",
            "Epoch 16/200\n",
            "450/450 [==============================] - 39s 87ms/step - loss: 0.5530 - accuracy: 0.8597 - val_loss: 1.1991 - val_accuracy: 0.7231\n",
            "Epoch 17/200\n",
            "450/450 [==============================] - 39s 87ms/step - loss: 0.5084 - accuracy: 0.8725 - val_loss: 1.2409 - val_accuracy: 0.7271\n",
            "Epoch 18/200\n",
            "450/450 [==============================] - 39s 87ms/step - loss: 0.4580 - accuracy: 0.8830 - val_loss: 1.2959 - val_accuracy: 0.7213\n",
            "Epoch 19/200\n",
            "450/450 [==============================] - 40s 89ms/step - loss: 0.4355 - accuracy: 0.8883 - val_loss: 1.3023 - val_accuracy: 0.7360\n"
          ]
        }
      ]
    },
    {
      "cell_type": "code",
      "source": [
        "# 테스트 정확도 출력\n",
        "print('\\n Test Accuracy: %.4f' % (model.evaluate(X_test, y_test)[1]))"
      ],
      "metadata": {
        "colab": {
          "base_uri": "https://localhost:8080/"
        },
        "id": "9XpbqHQ4Uqs0",
        "outputId": "70707ffd-3fe8-4936-9820-e6e245a01eca"
      },
      "execution_count": 9,
      "outputs": [
        {
          "output_type": "stream",
          "name": "stdout",
          "text": [
            "71/71 [==============================] - 2s 25ms/step - loss: 1.3023 - accuracy: 0.7360\n",
            "\n",
            " Test Accuracy: 0.7360\n"
          ]
        }
      ]
    },
    {
      "cell_type": "code",
      "source": [
        "# 학습셋과 테스트셋의 오차 저장\n",
        "y_vloss = history.history['val_loss']\n",
        "y_loss = history.history['loss']"
      ],
      "metadata": {
        "id": "_1K8W9sbYgmC"
      },
      "execution_count": 10,
      "outputs": []
    },
    {
      "cell_type": "code",
      "source": [
        "# 그래프\n",
        "x_len = np.arange(len(y_loss))\n",
        "plt.plot(x_len, y_vloss, marker='.', c='red', label='Testset_loss')\n",
        "plt.plot(x_len, y_loss, marker='.', c='blue', label='Trainset_loss')\n",
        "\n",
        "plt.legend(loc='upper right')\n",
        "plt.grid()\n",
        "plt.xlabel('epoch')\n",
        "plt.ylabel('loss')\n",
        "plt.show()"
      ],
      "metadata": {
        "colab": {
          "base_uri": "https://localhost:8080/",
          "height": 449
        },
        "id": "0-v4bksnYunB",
        "outputId": "694484cd-8e7c-4cd8-ddc1-196235b6d988"
      },
      "execution_count": 13,
      "outputs": [
        {
          "output_type": "display_data",
          "data": {
            "text/plain": [
              "<Figure size 640x480 with 1 Axes>"
            ],
            "image/png": "[encoded data removed]"
          },
          "metadata": {}
        }
      ]
    },
    {
      "cell_type": "markdown",
      "source": [
        "2. LSTM과 CNN 조합을 이용한 영화 리뷰 분류"
      ],
      "metadata": {
        "id": "DZ3CTAKPZNOF"
      }
    },
    {
      "cell_type": "code",
      "source": [
        "from tensorflow.keras.preprocessing import sequence\n",
        "from tensorflow.keras.models import Sequential\n",
        "from tensorflow.keras.layers import Dense, Dropout, Activation, LSTM, Embedding, Conv1D, MaxPooling1D\n",
        "from tensorflow.keras.datasets import imdb\n",
        "from tensorflow.keras.callbacks import EarlyStopping\n",
        "import numpy as np\n",
        "import matplotlib.pyplot as plt"
      ],
      "metadata": {
        "id": "NeyfDeILZHux"
      },
      "execution_count": 16,
      "outputs": []
    },
    {
      "cell_type": "code",
      "source": [
        "# 데이터를 불러와 학습셋, 테스트셋으로 나누기\n",
        "(X_train, y_train), (X_test, y_test) = imdb.load_data(num_words=5000)"
      ],
      "metadata": {
        "colab": {
          "base_uri": "https://localhost:8080/"
        },
        "id": "BTRpmivbZr8Z",
        "outputId": "2f8f90b4-3604-440e-ddd9-a7c75abef454"
      },
      "execution_count": 17,
      "outputs": [
        {
          "output_type": "stream",
          "name": "stdout",
          "text": [
            "Downloading data from https://storage.googleapis.com/tensorflow/tf-keras-datasets/imdb.npz\n",
            "17464789/17464789 [==============================] - 0s 0us/step\n"
          ]
        }
      ]
    },
    {
      "cell_type": "code",
      "source": [
        "# 단어 수 맞추기\n",
        "X_train = sequence.pad_sequences(X_train, maxlen=500)\n",
        "X_test = sequence.pad_sequences(X_test, maxlen=500)"
      ],
      "metadata": {
        "id": "dNSZoc_IaCpZ"
      },
      "execution_count": 18,
      "outputs": []
    },
    {
      "cell_type": "code",
      "source": [
        "# 모델 구조 설정\n",
        "model = Sequential()\n",
        "model.add(Embedding(5000, 100))\n",
        "model.add(Dropout(0.5))\n",
        "model.add(Conv1D(64, 5, padding='valid', activation='relu', strides=1))\n",
        "model.add(MaxPooling1D(pool_size=4))\n",
        "model.add(LSTM(55))\n",
        "model.add(Dense(1))\n",
        "model.add(Activation('sigmoid'))\n",
        "model.summary()"
      ],
      "metadata": {
        "colab": {
          "base_uri": "https://localhost:8080/"
        },
        "id": "20050bwAaI0B",
        "outputId": "ce6a6465-6c24-4978-8677-9bf8d2694c1b"
      },
      "execution_count": 19,
      "outputs": [
        {
          "output_type": "stream",
          "name": "stdout",
          "text": [
            "Model: \"sequential_2\"\n",
            "_________________________________________________________________\n",
            " Layer (type)                Output Shape              Param #   \n",
            "=================================================================\n",
            " embedding_2 (Embedding)     (None, None, 100)         500000    \n",
            "                                                                 \n",
            " dropout (Dropout)           (None, None, 100)         0         \n",
            "                                                                 \n",
            " conv1d (Conv1D)             (None, None, 64)          32064     \n",
            "                                                                 \n",
            " max_pooling1d (MaxPooling1D  (None, None, 64)         0         \n",
            " )                                                               \n",
            "                                                                 \n",
            " lstm_2 (LSTM)               (None, 55)                26400     \n",
            "                                                                 \n",
            " dense_1 (Dense)             (None, 1)                 56        \n",
            "                                                                 \n",
            " activation (Activation)     (None, 1)                 0         \n",
            "                                                                 \n",
            "=================================================================\n",
            "Total params: 558,520\n",
            "Trainable params: 558,520\n",
            "Non-trainable params: 0\n",
            "_________________________________________________________________\n"
          ]
        }
      ]
    },
    {
      "cell_type": "code",
      "source": [
        "# 모델 실행 옵션\n",
        "model.compile(loss='binary_crossentropy', optimizer='adam', metrics=['accuracy'])"
      ],
      "metadata": {
        "id": "aePv_IRBaqjg"
      },
      "execution_count": 20,
      "outputs": []
    },
    {
      "cell_type": "code",
      "source": [
        "# 학습 조기 중단 설정\n",
        "early_stopping_callback = EarlyStopping(monitor='val_loss', patience=3)"
      ],
      "metadata": {
        "id": "0hAo8ihDa0SA"
      },
      "execution_count": 21,
      "outputs": []
    },
    {
      "cell_type": "code",
      "source": [
        "# 모델 실행\n",
        "history = model.fit(X_train, y_train, batch_size=40, epochs=100, validation_split=0.25, callbacks=[early_stopping_callback])"
      ],
      "metadata": {
        "colab": {
          "base_uri": "https://localhost:8080/"
        },
        "id": "pNMHzCr6a3jY",
        "outputId": "c9092d06-58d9-412e-9b2a-2fb16b15b63e"
      },
      "execution_count": 22,
      "outputs": [
        {
          "output_type": "stream",
          "name": "stdout",
          "text": [
            "Epoch 1/100\n",
            "469/469 [==============================] - 125s 257ms/step - loss: 0.3995 - accuracy: 0.8073 - val_loss: 0.3176 - val_accuracy: 0.8766\n",
            "Epoch 2/100\n",
            "469/469 [==============================] - 116s 248ms/step - loss: 0.2351 - accuracy: 0.9105 - val_loss: 0.2797 - val_accuracy: 0.8888\n",
            "Epoch 3/100\n",
            "469/469 [==============================] - 113s 242ms/step - loss: 0.1882 - accuracy: 0.9275 - val_loss: 0.2678 - val_accuracy: 0.8888\n",
            "Epoch 4/100\n",
            "469/469 [==============================] - 117s 249ms/step - loss: 0.1484 - accuracy: 0.9463 - val_loss: 0.2821 - val_accuracy: 0.8898\n",
            "Epoch 5/100\n",
            "469/469 [==============================] - 118s 251ms/step - loss: 0.1188 - accuracy: 0.9576 - val_loss: 0.3070 - val_accuracy: 0.8853\n",
            "Epoch 6/100\n",
            "469/469 [==============================] - 118s 252ms/step - loss: 0.0990 - accuracy: 0.9651 - val_loss: 0.3353 - val_accuracy: 0.8826\n"
          ]
        }
      ]
    },
    {
      "cell_type": "code",
      "source": [
        "# 테스트 정확도 출력\n",
        "print('\\n Test Accuracy: %.4f' % (model.evaluate(X_test, y_test)[1]))"
      ],
      "metadata": {
        "colab": {
          "base_uri": "https://localhost:8080/"
        },
        "id": "_MI9ED--bClI",
        "outputId": "1c028c2e-ece6-4234-afdb-4252bf452049"
      },
      "execution_count": 23,
      "outputs": [
        {
          "output_type": "stream",
          "name": "stdout",
          "text": [
            "782/782 [==============================] - 32s 41ms/step - loss: 0.3612 - accuracy: 0.8728\n",
            "\n",
            " Test Accuracy: 0.8728\n"
          ]
        }
      ]
    },
    {
      "cell_type": "code",
      "source": [
        "y_vloss = history.history['val_loss']\n",
        "y_loss = history.history['loss']"
      ],
      "metadata": {
        "id": "cqHIdhldedE_"
      },
      "execution_count": 24,
      "outputs": []
    },
    {
      "cell_type": "code",
      "source": [
        "# 그래프\n",
        "x_len = np.arange(len(y_loss))\n",
        "plt.plot(x_len, y_vloss, marker='.', c='red', label='Testset_loss')\n",
        "plt.plot(x_len, y_loss, marker='.', c='blue', label='Trainset_loss')\n",
        "\n",
        "plt.legend(loc='upper right')\n",
        "plt.grid()\n",
        "plt.xlabel('epoch')\n",
        "plt.ylabel('loss')\n",
        "plt.show()"
      ],
      "metadata": {
        "colab": {
          "base_uri": "https://localhost:8080/",
          "height": 449
        },
        "id": "TBzsmyrIiCy1",
        "outputId": "d95e7726-3bd1-42b7-d1c8-0c039e5e631b"
      },
      "execution_count": 25,
      "outputs": [
        {
          "output_type": "display_data",
          "data": {
            "text/plain": [
              "<Figure size 640x480 with 1 Axes>"
            ],
            "image/png": "[encoded data removed]"
          },
          "metadata": {}
        }
      ]
    },
    {
      "cell_type": "code",
      "source": [],
      "metadata": {
        "id": "DAr8uU8ViIqU"
      },
      "execution_count": null,
      "outputs": []
    }
  ]
}