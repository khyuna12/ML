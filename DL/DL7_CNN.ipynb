{
  "nbformat": 4,
  "nbformat_minor": 0,
  "metadata": {
    "colab": {
      "provenance": []
    },
    "kernelspec": {
      "name": "python3",
      "display_name": "Python 3"
    },
    "language_info": {
      "name": "python"
    }
  },
  "cells": [
    {
      "cell_type": "markdown",
      "source": [
        "이미지 인식의 꽃, 컨볼루션 신경망(CNN)"
      ],
      "metadata": {
        "id": "LP08MQwoJxgk"
      }
    },
    {
      "cell_type": "markdown",
      "source": [
        "1. 이미지를 인식하는 원리"
      ],
      "metadata": {
        "id": "PLGMZVJqJ3Lv"
      }
    },
    {
      "cell_type": "code",
      "execution_count": 1,
      "metadata": {
        "id": "r6ajzTetA7kr"
      },
      "outputs": [],
      "source": [
        "from tensorflow.keras.datasets import mnist\n",
        "from tensorflow.keras.utils import to_categorical"
      ]
    },
    {
      "cell_type": "code",
      "source": [
        "import matplotlib.pyplot as plt\n",
        "import sys"
      ],
      "metadata": {
        "id": "PbqaoohhKEn8"
      },
      "execution_count": 2,
      "outputs": []
    },
    {
      "cell_type": "code",
      "source": [
        "# MNIST 데이터셋을 불러와 학습셋과 테스트셋으로 저장함\n",
        "(X_train, y_train), (X_test, y_test) = mnist.load_data()"
      ],
      "metadata": {
        "id": "cVdimmq4KHPb",
        "colab": {
          "base_uri": "https://localhost:8080/"
        },
        "outputId": "712d5873-e60d-4303-a32a-77a07b82ab85"
      },
      "execution_count": 3,
      "outputs": [
        {
          "output_type": "stream",
          "name": "stdout",
          "text": [
            "Downloading data from https://storage.googleapis.com/tensorflow/tf-keras-datasets/mnist.npz\n",
            "11490434/11490434 [==============================] - 1s 0us/step\n"
          ]
        }
      ]
    },
    {
      "cell_type": "code",
      "source": [
        "# 학습셋과 테스트셋이 각각 몇 개의 이미지로 되어 있는지 확인\n",
        "print(\"학습셋 이미지 수: %d 개\" % (X_train.shape[0]))\n",
        "print(\"테스트셋 이미지 수: %d 개\" % (X_test.shape[0]))"
      ],
      "metadata": {
        "colab": {
          "base_uri": "https://localhost:8080/"
        },
        "id": "kJs4K8RJKjNj",
        "outputId": "feadbd85-6a3f-49c6-e94d-c58c2605d695"
      },
      "execution_count": 4,
      "outputs": [
        {
          "output_type": "stream",
          "name": "stdout",
          "text": [
            "학습셋 이미지 수: 60000 개\n",
            "테스트셋 이미지 수: 10000 개\n"
          ]
        }
      ]
    },
    {
      "cell_type": "code",
      "source": [
        "# 첫번째 이미지 확인\n",
        "plt.imshow(X_train[0], cmap='Greys')\n",
        "plt.show()"
      ],
      "metadata": {
        "colab": {
          "base_uri": "https://localhost:8080/",
          "height": 430
        },
        "id": "Q4RjZH2-K15z",
        "outputId": "6783bd22-4fee-4eb8-d8bc-e8d70abcd054"
      },
      "execution_count": 5,
      "outputs": [
        {
          "output_type": "display_data",
          "data": {
            "text/plain": [
              "<Figure size 640x480 with 1 Axes>"
            ],
            "image/png": "[encoded data removed]"
          },
          "metadata": {}
        }
      ]
    },
    {
      "cell_type": "code",
      "source": [
        "# 이미지가 인식되는 원리\n",
        "for x in X_train[0]:\n",
        "  for i in x:\n",
        "    sys.stdout.write(\"%-3s\" % i)\n",
        "  sys.stdout.write('\\n')"
      ],
      "metadata": {
        "colab": {
          "base_uri": "https://localhost:8080/"
        },
        "id": "qL7aXnbxLDQq",
        "outputId": "1f6a72ba-ee15-447c-8cb8-14f7bcd2654d"
      },
      "execution_count": 6,
      "outputs": [
        {
          "output_type": "stream",
          "name": "stdout",
          "text": [
            "0  0  0  0  0  0  0  0  0  0  0  0  0  0  0  0  0  0  0  0  0  0  0  0  0  0  0  0  \n",
            "0  0  0  0  0  0  0  0  0  0  0  0  0  0  0  0  0  0  0  0  0  0  0  0  0  0  0  0  \n",
            "0  0  0  0  0  0  0  0  0  0  0  0  0  0  0  0  0  0  0  0  0  0  0  0  0  0  0  0  \n",
            "0  0  0  0  0  0  0  0  0  0  0  0  0  0  0  0  0  0  0  0  0  0  0  0  0  0  0  0  \n",
            "0  0  0  0  0  0  0  0  0  0  0  0  0  0  0  0  0  0  0  0  0  0  0  0  0  0  0  0  \n",
            "0  0  0  0  0  0  0  0  0  0  0  0  3  18 18 18 12613617526 1662552471270  0  0  0  \n",
            "0  0  0  0  0  0  0  0  30 36 94 15417025325325325325322517225324219564 0  0  0  0  \n",
            "0  0  0  0  0  0  0  49 23825325325325325325325325325193 82 82 56 39 0  0  0  0  0  \n",
            "0  0  0  0  0  0  0  18 2192532532532532531981822472410  0  0  0  0  0  0  0  0  0  \n",
            "0  0  0  0  0  0  0  0  80 15610725325320511 0  43 1540  0  0  0  0  0  0  0  0  0  \n",
            "0  0  0  0  0  0  0  0  0  14 1  15425390 0  0  0  0  0  0  0  0  0  0  0  0  0  0  \n",
            "0  0  0  0  0  0  0  0  0  0  0  1392531902  0  0  0  0  0  0  0  0  0  0  0  0  0  \n",
            "0  0  0  0  0  0  0  0  0  0  0  11 19025370 0  0  0  0  0  0  0  0  0  0  0  0  0  \n",
            "0  0  0  0  0  0  0  0  0  0  0  0  35 2412251601081  0  0  0  0  0  0  0  0  0  0  \n",
            "0  0  0  0  0  0  0  0  0  0  0  0  0  81 24025325311925 0  0  0  0  0  0  0  0  0  \n",
            "0  0  0  0  0  0  0  0  0  0  0  0  0  0  45 18625325315027 0  0  0  0  0  0  0  0  \n",
            "0  0  0  0  0  0  0  0  0  0  0  0  0  0  0  16 93 2522531870  0  0  0  0  0  0  0  \n",
            "0  0  0  0  0  0  0  0  0  0  0  0  0  0  0  0  0  24925324964 0  0  0  0  0  0  0  \n",
            "0  0  0  0  0  0  0  0  0  0  0  0  0  0  46 1301832532532072  0  0  0  0  0  0  0  \n",
            "0  0  0  0  0  0  0  0  0  0  0  0  39 1482292532532532501820  0  0  0  0  0  0  0  \n",
            "0  0  0  0  0  0  0  0  0  0  24 11422125325325325320178 0  0  0  0  0  0  0  0  0  \n",
            "0  0  0  0  0  0  0  0  23 66 21325325325325319881 2  0  0  0  0  0  0  0  0  0  0  \n",
            "0  0  0  0  0  0  18 17121925325325325319580 9  0  0  0  0  0  0  0  0  0  0  0  0  \n",
            "0  0  0  0  55 17222625325325325324413311 0  0  0  0  0  0  0  0  0  0  0  0  0  0  \n",
            "0  0  0  0  13625325325321213513216 0  0  0  0  0  0  0  0  0  0  0  0  0  0  0  0  \n",
            "0  0  0  0  0  0  0  0  0  0  0  0  0  0  0  0  0  0  0  0  0  0  0  0  0  0  0  0  \n",
            "0  0  0  0  0  0  0  0  0  0  0  0  0  0  0  0  0  0  0  0  0  0  0  0  0  0  0  0  \n",
            "0  0  0  0  0  0  0  0  0  0  0  0  0  0  0  0  0  0  0  0  0  0  0  0  0  0  0  0  \n"
          ]
        }
      ]
    },
    {
      "cell_type": "code",
      "source": [
        "# 차원 변환 과정 실습\n",
        "X_train = X_train.reshape(X_train.shape[0], 784)\n",
        "X_train = X_train.astype('float64')\n",
        "X_train = X_train / 255"
      ],
      "metadata": {
        "id": "Jv2LAulmLZGD"
      },
      "execution_count": 7,
      "outputs": []
    },
    {
      "cell_type": "code",
      "source": [
        "# 클래스 값 확인\n",
        "print(\"class: %d \" % (y_train[0]))"
      ],
      "metadata": {
        "colab": {
          "base_uri": "https://localhost:8080/"
        },
        "id": "EWhCri0gOZQz",
        "outputId": "75835c7e-350a-4ddf-e431-75b510da6a6e"
      },
      "execution_count": 8,
      "outputs": [
        {
          "output_type": "stream",
          "name": "stdout",
          "text": [
            "class: 5 \n"
          ]
        }
      ]
    },
    {
      "cell_type": "code",
      "source": [
        "# 바이너리화 과정(원-핫 인코)\n",
        "y_train = to_categorical(y_train, 10)\n",
        "y_test = to_categorical(y_test, 10)\n",
        "print(y_train[0])"
      ],
      "metadata": {
        "colab": {
          "base_uri": "https://localhost:8080/"
        },
        "id": "HlQxUMIIOj6K",
        "outputId": "6f7e9bc5-0d84-4a58-af4d-df3680e6ef08"
      },
      "execution_count": 9,
      "outputs": [
        {
          "output_type": "stream",
          "name": "stdout",
          "text": [
            "[0. 0. 0. 0. 0. 1. 0. 0. 0. 0.]\n"
          ]
        }
      ]
    },
    {
      "cell_type": "markdown",
      "source": [
        "2. 딥러닝 기본 프레임 만들기"
      ],
      "metadata": {
        "id": "Nu_EnmhOOz1F"
      }
    },
    {
      "cell_type": "code",
      "source": [
        "from tensorflow.keras.models import Sequential\n",
        "from tensorflow.keras.layers import Dense\n",
        "from tensorflow.keras.callbacks import ModelCheckpoint, EarlyStopping\n",
        "import numpy as np\n",
        "import pandas as pd"
      ],
      "metadata": {
        "id": "8RXoi5twOuzS"
      },
      "execution_count": 10,
      "outputs": []
    },
    {
      "cell_type": "code",
      "source": [
        "# MNIST 데이터 불러오기\n",
        "(X_train, y_train), (X_test, y_test) = mnist.load_data()"
      ],
      "metadata": {
        "id": "WesaaBtKPBe7"
      },
      "execution_count": 11,
      "outputs": []
    },
    {
      "cell_type": "code",
      "source": [
        "# 차원 변환 후, 테스트셋과 학습셋으로 나누기\n",
        "X_train = X_train.reshape(X_train.shape[0], 784).astype('float32') / 255\n",
        "X_test = X_test.reshape(X_test.shape[0], 784).astype('float32') / 255\n",
        "\n",
        "y_train = to_categorical(y_train, 10)  # 원-핫 인코딩\n",
        "y_test = to_categorical(y_test, 10)  # num_classes= 10: MNIST 데이터셋에 총 10개의 클래스(숫자 0부터 9까지)가 있음을 의미"
      ],
      "metadata": {
        "id": "rdDvPcjGPOvS"
      },
      "execution_count": 12,
      "outputs": []
    },
    {
      "cell_type": "code",
      "source": [
        "# 모델 구조 설정 (다층 퍼셉트론)\n",
        "model = Sequential()\n",
        "model.add(Dense(512, input_dim=784, activation='relu'))\n",
        "model.add(Dense(10, activation='softmax'))  # 다중 클래스 분류를 위해 출력 확률 분포를 계산\n",
        "model.summary()"
      ],
      "metadata": {
        "colab": {
          "base_uri": "https://localhost:8080/"
        },
        "id": "3BO_VqOOPixx",
        "outputId": "d7f86b68-b079-4950-df54-a9f1c2d8221d"
      },
      "execution_count": 13,
      "outputs": [
        {
          "output_type": "stream",
          "name": "stdout",
          "text": [
            "Model: \"sequential\"\n",
            "_________________________________________________________________\n",
            " Layer (type)                Output Shape              Param #   \n",
            "=================================================================\n",
            " dense (Dense)               (None, 512)               401920    \n",
            "                                                                 \n",
            " dense_1 (Dense)             (None, 10)                5130      \n",
            "                                                                 \n",
            "=================================================================\n",
            "Total params: 407,050\n",
            "Trainable params: 407,050\n",
            "Non-trainable params: 0\n",
            "_________________________________________________________________\n"
          ]
        }
      ]
    },
    {
      "cell_type": "code",
      "source": [
        "# 모델 실행 환경 설정\n",
        "model.compile(loss='categorical_crossentropy', optimizer='adam', metrics=['accuracy'])"
      ],
      "metadata": {
        "id": "9ZZCn1kGPwQq"
      },
      "execution_count": 14,
      "outputs": []
    },
    {
      "cell_type": "code",
      "source": [
        "# 모델 최적화를 위한 설정 구간\n",
        "modelpath = \"./MNIST_MLP.hdf5\"\n",
        "checkpointer = ModelCheckpoint(filepath=modelpath, monitor='val_loss', verbose=1, save_best_only=True)\n",
        "early_stopping_callback = EarlyStopping(monitor='val_loss', patience=10)"
      ],
      "metadata": {
        "id": "lLpfZMo8P7ia"
      },
      "execution_count": 15,
      "outputs": []
    },
    {
      "cell_type": "code",
      "source": [
        "# 모델 실행\n",
        "history = model.fit(X_train, y_train, validation_split=0.25, epochs=30, batch_size=200, verbose=0,\n",
        "                    callbacks=[early_stopping_callback, checkpointer])"
      ],
      "metadata": {
        "colab": {
          "base_uri": "https://localhost:8080/"
        },
        "id": "uAJ-IJgeQpbq",
        "outputId": "92226f51-4e7a-45dd-da9d-9c4dd7364cf7"
      },
      "execution_count": 16,
      "outputs": [
        {
          "output_type": "stream",
          "name": "stdout",
          "text": [
            "\n",
            "Epoch 1: val_loss improved from inf to 0.19396, saving model to ./MNIST_MLP.hdf5\n",
            "\n",
            "Epoch 2: val_loss improved from 0.19396 to 0.14237, saving model to ./MNIST_MLP.hdf5\n",
            "\n",
            "Epoch 3: val_loss improved from 0.14237 to 0.11339, saving model to ./MNIST_MLP.hdf5\n",
            "\n",
            "Epoch 4: val_loss improved from 0.11339 to 0.09858, saving model to ./MNIST_MLP.hdf5\n",
            "\n",
            "Epoch 5: val_loss improved from 0.09858 to 0.09405, saving model to ./MNIST_MLP.hdf5\n",
            "\n",
            "Epoch 6: val_loss improved from 0.09405 to 0.08981, saving model to ./MNIST_MLP.hdf5\n",
            "\n",
            "Epoch 7: val_loss improved from 0.08981 to 0.08512, saving model to ./MNIST_MLP.hdf5\n",
            "\n",
            "Epoch 8: val_loss did not improve from 0.08512\n",
            "\n",
            "Epoch 9: val_loss did not improve from 0.08512\n",
            "\n",
            "Epoch 10: val_loss improved from 0.08512 to 0.08064, saving model to ./MNIST_MLP.hdf5\n",
            "\n",
            "Epoch 11: val_loss did not improve from 0.08064\n",
            "\n",
            "Epoch 12: val_loss did not improve from 0.08064\n",
            "\n",
            "Epoch 13: val_loss did not improve from 0.08064\n",
            "\n",
            "Epoch 14: val_loss improved from 0.08064 to 0.08033, saving model to ./MNIST_MLP.hdf5\n",
            "\n",
            "Epoch 15: val_loss did not improve from 0.08033\n",
            "\n",
            "Epoch 16: val_loss did not improve from 0.08033\n",
            "\n",
            "Epoch 17: val_loss did not improve from 0.08033\n",
            "\n",
            "Epoch 18: val_loss did not improve from 0.08033\n",
            "\n",
            "Epoch 19: val_loss did not improve from 0.08033\n",
            "\n",
            "Epoch 20: val_loss did not improve from 0.08033\n",
            "\n",
            "Epoch 21: val_loss did not improve from 0.08033\n",
            "\n",
            "Epoch 22: val_loss did not improve from 0.08033\n",
            "\n",
            "Epoch 23: val_loss did not improve from 0.08033\n",
            "\n",
            "Epoch 24: val_loss did not improve from 0.08033\n"
          ]
        }
      ]
    },
    {
      "cell_type": "code",
      "source": [
        "# 테스트 정확도 출력\n",
        "print('\\n Test Accuracy: %.4f' % (model.evaluate(X_test, y_test)[1]))"
      ],
      "metadata": {
        "colab": {
          "base_uri": "https://localhost:8080/"
        },
        "id": "515ry8x6Q4kR",
        "outputId": "a0d6080e-2008-415d-92b4-bca32079ae33"
      },
      "execution_count": 17,
      "outputs": [
        {
          "output_type": "stream",
          "name": "stdout",
          "text": [
            "313/313 [==============================] - 1s 3ms/step - loss: 0.0727 - accuracy: 0.9820\n",
            "\n",
            " Test Accuracy: 0.9820\n"
          ]
        }
      ]
    },
    {
      "cell_type": "code",
      "source": [
        "# 검증셋과 학습셋의 오차 저장\n",
        "y_vloss = history.history['val_loss']\n",
        "y_loss = history.history['loss']"
      ],
      "metadata": {
        "id": "3-UO1USvRRzC"
      },
      "execution_count": 18,
      "outputs": []
    },
    {
      "cell_type": "code",
      "source": [
        "# 그래프로 표현\n",
        "x_len = np.arange(len(y_loss))\n",
        "plt.plot(x_len, y_vloss, marker='.', c='red', label='Testset_loss')\n",
        "plt.plot(x_len, y_loss, marker='.', c='blue', label='Trainset_loss')\n",
        "\n",
        "# 그래프에 그리드, 레이블 표시\n",
        "plt.legend(loc='upper right')\n",
        "plt.grid()\n",
        "plt.xlabel('epoch')\n",
        "plt.ylabel('loss')\n",
        "plt.show()"
      ],
      "metadata": {
        "colab": {
          "base_uri": "https://localhost:8080/",
          "height": 449
        },
        "id": "iJ67sgrGRnWR",
        "outputId": "d87dd2dc-9935-4650-e345-28abc2691a59"
      },
      "execution_count": 19,
      "outputs": [
        {
          "output_type": "display_data",
          "data": {
            "text/plain": [
              "<Figure size 640x480 with 1 Axes>"
            ],
            "image/png": "[encoded data removed]"
          },
          "metadata": {}
        }
      ]
    },
    {
      "cell_type": "markdown",
      "source": [
        "loss가 어느 순간부터 안내려감 -> 중간에 중단"
      ],
      "metadata": {
        "id": "4p9-Kl4aTcZR"
      }
    },
    {
      "cell_type": "markdown",
      "source": [
        "5. 컨볼루션 신경망 실행"
      ],
      "metadata": {
        "id": "AohOX6aCSTft"
      }
    },
    {
      "cell_type": "code",
      "source": [
        "from tensorflow.keras.models import Sequential\n",
        "from tensorflow.keras.layers import Dense, Dropout, Flatten, Conv2D, MaxPooling2D\n",
        "from tensorflow.keras.callbacks import ModelCheckpoint, EarlyStopping"
      ],
      "metadata": {
        "id": "C0zNa19VSCF5"
      },
      "execution_count": 20,
      "outputs": []
    },
    {
      "cell_type": "code",
      "source": [
        "(X_train, y_train), (X_test, y_test) = mnist.load_data()\n",
        "X_train = X_train.reshape(X_train.shape[0], 28, 28, 1).astype('float32') / 255\n",
        "X_test = X_test.reshape(X_test.shape[0], 28, 28, 1).astype('float32') / 255\n",
        "y_train = to_categorical(y_train)\n",
        "y_test = to_categorical(y_test)"
      ],
      "metadata": {
        "id": "Nak9N6dwSkWh"
      },
      "execution_count": 21,
      "outputs": []
    },
    {
      "cell_type": "code",
      "source": [
        "# 컨볼루션 신경망 설정\n",
        "model = Sequential()\n",
        "model.add(Conv2D(32, kernel_size=(3,3), input_shape=(28, 28, 1), activation='relu'))\n",
        "model.add(Conv2D(64, (3,3), activation='relu'))\n",
        "model.add(MaxPooling2D(pool_size=(2,2)))\n",
        "model.add(Dropout(0.25))\n",
        "model.add(Flatten())\n",
        "model.add(Dense(128, activation='relu'))\n",
        "model.add(Dropout(0.5))\n",
        "model.add(Dense(10, activation='softmax'))"
      ],
      "metadata": {
        "id": "QOTobUhnTDs6"
      },
      "execution_count": 22,
      "outputs": []
    },
    {
      "cell_type": "code",
      "source": [
        "# 모델 실행 옵션 설정\n",
        "model.compile(loss='categorical_crossentropy', optimizer='adam', metrics=['accuracy'])"
      ],
      "metadata": {
        "id": "_aR45XO5UIr5"
      },
      "execution_count": 23,
      "outputs": []
    },
    {
      "cell_type": "code",
      "source": [
        "# 모델 최적화를 위한 설정 구간\n",
        "modelpath = \"./MNIST_CNN.hdf5\"\n",
        "checkpointer = ModelCheckpoint(filepath=modelpath, monitor='val_loss', verbose=1, save_best_only=True)\n",
        "early_stopping_callback = EarlyStopping(monitor='val_loss', patience=10)"
      ],
      "metadata": {
        "id": "KrcIn_4BUOOx"
      },
      "execution_count": 24,
      "outputs": []
    },
    {
      "cell_type": "code",
      "source": [
        "# 모델 실행\n",
        "history = model.fit(X_train, y_train, validation_split=0.25, epochs=30, batch_size=200, verbose=0,\n",
        "                    callbacks=[early_stopping_callback, checkpointer])"
      ],
      "metadata": {
        "colab": {
          "base_uri": "https://localhost:8080/"
        },
        "id": "cor6Er3aUVXZ",
        "outputId": "e51c5a0c-7e0d-4509-8bcf-e4a6cfe917d2"
      },
      "execution_count": 25,
      "outputs": [
        {
          "output_type": "stream",
          "name": "stdout",
          "text": [
            "\n",
            "Epoch 1: val_loss improved from inf to 0.07641, saving model to ./MNIST_CNN.hdf5\n",
            "\n",
            "Epoch 2: val_loss improved from 0.07641 to 0.05858, saving model to ./MNIST_CNN.hdf5\n",
            "\n",
            "Epoch 3: val_loss improved from 0.05858 to 0.05237, saving model to ./MNIST_CNN.hdf5\n",
            "\n",
            "Epoch 4: val_loss improved from 0.05237 to 0.04644, saving model to ./MNIST_CNN.hdf5\n",
            "\n",
            "Epoch 5: val_loss improved from 0.04644 to 0.04642, saving model to ./MNIST_CNN.hdf5\n",
            "\n",
            "Epoch 6: val_loss improved from 0.04642 to 0.04212, saving model to ./MNIST_CNN.hdf5\n",
            "\n",
            "Epoch 7: val_loss improved from 0.04212 to 0.04087, saving model to ./MNIST_CNN.hdf5\n",
            "\n",
            "Epoch 8: val_loss did not improve from 0.04087\n",
            "\n",
            "Epoch 9: val_loss improved from 0.04087 to 0.03853, saving model to ./MNIST_CNN.hdf5\n",
            "\n",
            "Epoch 10: val_loss did not improve from 0.03853\n",
            "\n",
            "Epoch 11: val_loss did not improve from 0.03853\n",
            "\n",
            "Epoch 12: val_loss did not improve from 0.03853\n",
            "\n",
            "Epoch 13: val_loss did not improve from 0.03853\n",
            "\n",
            "Epoch 14: val_loss did not improve from 0.03853\n",
            "\n",
            "Epoch 15: val_loss did not improve from 0.03853\n",
            "\n",
            "Epoch 16: val_loss did not improve from 0.03853\n",
            "\n",
            "Epoch 17: val_loss did not improve from 0.03853\n",
            "\n",
            "Epoch 18: val_loss did not improve from 0.03853\n",
            "\n",
            "Epoch 19: val_loss did not improve from 0.03853\n"
          ]
        }
      ]
    },
    {
      "cell_type": "code",
      "source": [
        "# 검증셋과 학습셋의 오차 저장\n",
        "y_vloss = history.history['val_loss']\n",
        "y_loss = history.history['loss']"
      ],
      "metadata": {
        "id": "a6sh2jYXUbzR"
      },
      "execution_count": 26,
      "outputs": []
    },
    {
      "cell_type": "code",
      "source": [
        "# 그래프로 표현\n",
        "x_len = np.arange(len(y_loss))\n",
        "plt.plot(x_len, y_vloss, marker='.', c='red', label='Testset_loss')\n",
        "plt.plot(x_len, y_loss, marker='.', c='blue', label='Trainset_loss')\n",
        "\n",
        "# 그래프에 그리드, 레이블 표시\n",
        "plt.legend(loc='upper right')\n",
        "plt.grid()\n",
        "plt.xlabel('epoch')\n",
        "plt.ylabel('loss')\n",
        "plt.show()"
      ],
      "metadata": {
        "id": "L3YSv7yDWgXA",
        "colab": {
          "base_uri": "https://localhost:8080/",
          "height": 449
        },
        "outputId": "fad8bdc0-5348-4618-8cb1-dbcaa551a2f1"
      },
      "execution_count": 27,
      "outputs": [
        {
          "output_type": "display_data",
          "data": {
            "text/plain": [
              "<Figure size 640x480 with 1 Axes>"
            ],
            "image/png": "[encoded data removed]"
          },
          "metadata": {}
        }
      ]
    }
  ]
}